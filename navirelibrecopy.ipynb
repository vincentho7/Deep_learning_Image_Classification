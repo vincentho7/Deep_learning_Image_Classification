{
 "cells": [
  {
   "cell_type": "code",
   "execution_count": 1,
   "id": "8c6accee",
   "metadata": {
    "_cell_guid": "b1076dfc-b9ad-4769-8c92-a6c4dae69d19",
    "_uuid": "8f2839f25d086af736a60e9eeb907d3b93b6e0e5",
    "execution": {
     "iopub.execute_input": "2023-05-26T13:55:02.287573Z",
     "iopub.status.busy": "2023-05-26T13:55:02.286719Z",
     "iopub.status.idle": "2023-05-26T13:55:02.299321Z",
     "shell.execute_reply": "2023-05-26T13:55:02.298538Z"
    },
    "papermill": {
     "duration": 0.02208,
     "end_time": "2023-05-26T13:55:02.301237",
     "exception": false,
     "start_time": "2023-05-26T13:55:02.279157",
     "status": "completed"
    },
    "tags": []
   },
   "outputs": [],
   "source": [
    "import numpy as np # linear algebra\n",
    "import pandas as pd # data processing, CSV file I/O (e.g. pd.read_csv)\n",
    "import matplotlib.pyplot as plt\n",
    "import os\n"
   ]
  },
  {
   "cell_type": "code",
   "execution_count": 2,
   "id": "34571995",
   "metadata": {
    "execution": {
     "iopub.execute_input": "2023-05-26T13:55:02.314147Z",
     "iopub.status.busy": "2023-05-26T13:55:02.313897Z",
     "iopub.status.idle": "2023-05-26T13:55:09.824273Z",
     "shell.execute_reply": "2023-05-26T13:55:09.823358Z"
    },
    "papermill": {
     "duration": 7.51958,
     "end_time": "2023-05-26T13:55:09.826898",
     "exception": false,
     "start_time": "2023-05-26T13:55:02.307318",
     "status": "completed"
    },
    "tags": []
   },
   "outputs": [
    {
     "name": "stderr",
     "output_type": "stream",
     "text": [
      "/opt/conda/lib/python3.10/site-packages/tensorflow_io/python/ops/__init__.py:98: UserWarning: unable to load libtensorflow_io_plugins.so: unable to open file: libtensorflow_io_plugins.so, from paths: ['/opt/conda/lib/python3.10/site-packages/tensorflow_io/python/ops/libtensorflow_io_plugins.so']\n",
      "caused by: ['/opt/conda/lib/python3.10/site-packages/tensorflow_io/python/ops/libtensorflow_io_plugins.so: undefined symbol: _ZN3tsl6StatusC1EN10tensorflow5error4CodeESt17basic_string_viewIcSt11char_traitsIcEENS_14SourceLocationE']\n",
      "  warnings.warn(f\"unable to load libtensorflow_io_plugins.so: {e}\")\n",
      "/opt/conda/lib/python3.10/site-packages/tensorflow_io/python/ops/__init__.py:104: UserWarning: file system plugins are not loaded: unable to open file: libtensorflow_io.so, from paths: ['/opt/conda/lib/python3.10/site-packages/tensorflow_io/python/ops/libtensorflow_io.so']\n",
      "caused by: ['/opt/conda/lib/python3.10/site-packages/tensorflow_io/python/ops/libtensorflow_io.so: undefined symbol: _ZTVN10tensorflow13GcsFileSystemE']\n",
      "  warnings.warn(f\"file system plugins are not loaded: {e}\")\n"
     ]
    }
   ],
   "source": [
    "import tensorflow as tf\n",
    "from tensorflow import keras\n",
    "from tensorflow.keras import datasets, layers, models\n",
    "from tensorflow.keras import regularizers\n",
    "\n",
    "from  IPython import display\n",
    "from matplotlib import pyplot as plt\n",
    "\n",
    "import numpy as np\n",
    "\n",
    "import pathlib\n",
    "import shutil\n",
    "import tempfile\n",
    "import tensorflow.compat.v1 as tf1"
   ]
  },
  {
   "cell_type": "code",
   "execution_count": 3,
   "id": "f811f739",
   "metadata": {
    "execution": {
     "iopub.execute_input": "2023-05-26T13:55:09.841476Z",
     "iopub.status.busy": "2023-05-26T13:55:09.840879Z",
     "iopub.status.idle": "2023-05-26T13:55:12.146328Z",
     "shell.execute_reply": "2023-05-26T13:55:12.145042Z"
    },
    "papermill": {
     "duration": 2.314885,
     "end_time": "2023-05-26T13:55:12.148447",
     "exception": false,
     "start_time": "2023-05-26T13:55:09.833562",
     "status": "completed"
    },
    "tags": []
   },
   "outputs": [
    {
     "name": "stdout",
     "output_type": "stream",
     "text": [
      "Found GPU at: /device:GPU:0\n"
     ]
    }
   ],
   "source": [
    "device_name = tf.test.gpu_device_name()\n",
    "if \"GPU\" not in device_name:\n",
    "    print(\"GPU device not found\")\n",
    "print('Found GPU at: {}'.format(device_name))"
   ]
  },
  {
   "cell_type": "code",
   "execution_count": 4,
   "id": "c09c78c7",
   "metadata": {
    "execution": {
     "iopub.execute_input": "2023-05-26T13:55:12.162293Z",
     "iopub.status.busy": "2023-05-26T13:55:12.161998Z",
     "iopub.status.idle": "2023-05-26T13:55:12.166654Z",
     "shell.execute_reply": "2023-05-26T13:55:12.165582Z"
    },
    "papermill": {
     "duration": 0.013954,
     "end_time": "2023-05-26T13:55:12.168861",
     "exception": false,
     "start_time": "2023-05-26T13:55:12.154907",
     "status": "completed"
    },
    "tags": []
   },
   "outputs": [],
   "source": [
    "directory = '/kaggle/input/navires-2023-libre'  # Chemin vers le dossier contenant vos 10 dossiers de catégories\n",
    "data_dir = directory + '/ships16x24/ships_16x24_10cat/data'\n",
    "test_file = directory + '/test.npy'"
   ]
  },
  {
   "cell_type": "code",
   "execution_count": 5,
   "id": "db80fe12",
   "metadata": {
    "execution": {
     "iopub.execute_input": "2023-05-26T13:55:12.182221Z",
     "iopub.status.busy": "2023-05-26T13:55:12.181947Z",
     "iopub.status.idle": "2023-05-26T13:55:12.187323Z",
     "shell.execute_reply": "2023-05-26T13:55:12.186323Z"
    },
    "papermill": {
     "duration": 0.014574,
     "end_time": "2023-05-26T13:55:12.189588",
     "exception": false,
     "start_time": "2023-05-26T13:55:12.175014",
     "status": "completed"
    },
    "tags": []
   },
   "outputs": [],
   "source": [
    "image_width, image_height = 16,24  # Dimensions de vos images\n",
    "batch_size = 32  # Taille du lot d'images à générer\n",
    "num_classes = 10  # Nombre total de catégories\n",
    "class_weights = [1.15,0.6,1.25,0.6,1.8,0.6,1.1,1.18,1.30,1.15]\n",
    "class_weight_dict = {i: weight for i, weight in enumerate(class_weights)}"
   ]
  },
  {
   "cell_type": "code",
   "execution_count": null,
   "id": "412dc4c0",
   "metadata": {
    "papermill": {
     "duration": 0.00626,
     "end_time": "2023-05-26T13:55:12.202014",
     "exception": false,
     "start_time": "2023-05-26T13:55:12.195754",
     "status": "completed"
    },
    "tags": []
   },
   "outputs": [],
   "source": []
  },
  {
   "cell_type": "code",
   "execution_count": 6,
   "id": "b0be26c9",
   "metadata": {
    "execution": {
     "iopub.execute_input": "2023-05-26T13:55:12.215712Z",
     "iopub.status.busy": "2023-05-26T13:55:12.215010Z",
     "iopub.status.idle": "2023-05-26T13:55:12.631917Z",
     "shell.execute_reply": "2023-05-26T13:55:12.630960Z"
    },
    "papermill": {
     "duration": 0.426177,
     "end_time": "2023-05-26T13:55:12.634206",
     "exception": false,
     "start_time": "2023-05-26T13:55:12.208029",
     "status": "completed"
    },
    "tags": []
   },
   "outputs": [
    {
     "name": "stdout",
     "output_type": "stream",
     "text": [
      "--> Checking for physical Tensorflow devices\n",
      ": /physical_device:CPU:0\n",
      ": /physical_device:GPU:0\n"
     ]
    }
   ],
   "source": [
    "strategy = tf.distribute.MirroredStrategy()\n",
    "print(\"--> Checking for physical Tensorflow devices\")\n",
    "for device in tf.config.list_physical_devices():\n",
    "    print(\": {}\".format(device.name))"
   ]
  },
  {
   "cell_type": "code",
   "execution_count": 7,
   "id": "af1d890f",
   "metadata": {
    "execution": {
     "iopub.execute_input": "2023-05-26T13:55:12.648832Z",
     "iopub.status.busy": "2023-05-26T13:55:12.647707Z",
     "iopub.status.idle": "2023-05-26T13:55:13.313640Z",
     "shell.execute_reply": "2023-05-26T13:55:13.312732Z"
    },
    "papermill": {
     "duration": 0.675479,
     "end_time": "2023-05-26T13:55:13.315997",
     "exception": false,
     "start_time": "2023-05-26T13:55:12.640518",
     "status": "completed"
    },
    "tags": []
   },
   "outputs": [],
   "source": [
    "\n",
    "#with strategy.scope():\n",
    "with tf.device('/gpu:0'):\n",
    "    # instantiate your model here\n",
    "    model =  models.Sequential([\n",
    "                    layers.Resizing(24,24,interpolation='bicubic', input_shape=(image_width, image_height, 3)),\n",
    "                    layers.RandomZoom(height_factor=(-0.1, 0.1),width_factor=(-0.1, 0.1)),\n",
    "                    layers.RandomFlip('horizontal'),\n",
    "                    layers.Rescaling(1. / 255),\n",
    "                    layers.Conv2D(256, (3, 3), activation='relu'),\n",
    "                    layers.BatchNormalization(),\n",
    "                    layers.Conv2D(256, (3, 3), activation='relu'),\n",
    "                    layers.BatchNormalization(),\n",
    "                    layers.MaxPooling2D((2, 2)),\n",
    "                    layers.Dropout(0.2),\n",
    "                    layers.Conv2DTranspose(128, (3, 3), activation='relu', padding='same'),\n",
    "                    #layers.BatchNormalization(),\n",
    "                    layers.Conv2DTranspose(128, (3, 3), activation='relu', padding='same'),\n",
    "                    layers.BatchNormalization(),\n",
    "                    layers.MaxPooling2D((2, 2)),\n",
    "                    layers.Dropout(0.2),\n",
    "                    layers.Conv2D(256, (3, 3), activation='relu', padding='same'),\n",
    "                    layers.BatchNormalization(),\n",
    "                    layers.MaxPooling2D((2, 2)),\n",
    "                    layers.Dropout(0.2),\n",
    "                    layers.Flatten(),                \n",
    "                    layers.Dense(512, activation=\"relu\"),\n",
    "                    layers.BatchNormalization(),\n",
    "                    layers.Dropout(0.1),\n",
    "                    layers.Dense(256, activation=\"relu\"),\n",
    "                    layers.BatchNormalization(),\n",
    "                    layers.Dropout(0.7),\n",
    "                    layers.Dense(10, activation='softmax')])\n",
    "\n",
    "\n"
   ]
  },
  {
   "cell_type": "code",
   "execution_count": 8,
   "id": "30d3beb5",
   "metadata": {
    "execution": {
     "iopub.execute_input": "2023-05-26T13:55:13.330226Z",
     "iopub.status.busy": "2023-05-26T13:55:13.329946Z",
     "iopub.status.idle": "2023-05-26T13:55:13.334276Z",
     "shell.execute_reply": "2023-05-26T13:55:13.333292Z"
    },
    "papermill": {
     "duration": 0.013733,
     "end_time": "2023-05-26T13:55:13.336497",
     "exception": false,
     "start_time": "2023-05-26T13:55:13.322764",
     "status": "completed"
    },
    "tags": []
   },
   "outputs": [],
   "source": [
    "from keras.optimizers import Adadelta, Adam, Adamax\n",
    "\n",
    "\n"
   ]
  },
  {
   "cell_type": "code",
   "execution_count": 9,
   "id": "879de177",
   "metadata": {
    "execution": {
     "iopub.execute_input": "2023-05-26T13:55:13.349689Z",
     "iopub.status.busy": "2023-05-26T13:55:13.349436Z",
     "iopub.status.idle": "2023-05-26T13:55:13.363808Z",
     "shell.execute_reply": "2023-05-26T13:55:13.363002Z"
    },
    "papermill": {
     "duration": 0.023089,
     "end_time": "2023-05-26T13:55:13.365624",
     "exception": false,
     "start_time": "2023-05-26T13:55:13.342535",
     "status": "completed"
    },
    "tags": []
   },
   "outputs": [],
   "source": [
    "model.compile(optimizer=Adamax(0.005), loss='categorical_crossentropy', metrics=['accuracy'])\n"
   ]
  },
  {
   "cell_type": "code",
   "execution_count": 10,
   "id": "7eaf85bb",
   "metadata": {
    "execution": {
     "iopub.execute_input": "2023-05-26T13:55:13.379196Z",
     "iopub.status.busy": "2023-05-26T13:55:13.378423Z",
     "iopub.status.idle": "2023-05-26T13:55:13.446258Z",
     "shell.execute_reply": "2023-05-26T13:55:13.445410Z"
    },
    "papermill": {
     "duration": 0.116707,
     "end_time": "2023-05-26T13:55:13.488342",
     "exception": false,
     "start_time": "2023-05-26T13:55:13.371635",
     "status": "completed"
    },
    "tags": []
   },
   "outputs": [
    {
     "name": "stdout",
     "output_type": "stream",
     "text": [
      "Model: \"sequential\"\n",
      "_________________________________________________________________\n",
      " Layer (type)                Output Shape              Param #   \n",
      "=================================================================\n",
      " resizing (Resizing)         (None, 24, 24, 3)         0         \n",
      "                                                                 \n",
      " random_zoom (RandomZoom)    (None, 24, 24, 3)         0         \n",
      "                                                                 \n",
      " random_flip (RandomFlip)    (None, 24, 24, 3)         0         \n",
      "                                                                 \n",
      " rescaling (Rescaling)       (None, 24, 24, 3)         0         \n",
      "                                                                 \n",
      " conv2d (Conv2D)             (None, 22, 22, 256)       7168      \n",
      "                                                                 \n",
      " batch_normalization (BatchN  (None, 22, 22, 256)      1024      \n",
      " ormalization)                                                   \n",
      "                                                                 \n",
      " conv2d_1 (Conv2D)           (None, 20, 20, 256)       590080    \n",
      "                                                                 \n",
      " batch_normalization_1 (Batc  (None, 20, 20, 256)      1024      \n",
      " hNormalization)                                                 \n",
      "                                                                 \n",
      " max_pooling2d (MaxPooling2D  (None, 10, 10, 256)      0         \n",
      " )                                                               \n",
      "                                                                 \n",
      " dropout (Dropout)           (None, 10, 10, 256)       0         \n",
      "                                                                 \n",
      " conv2d_transpose (Conv2DTra  (None, 10, 10, 128)      295040    \n",
      " nspose)                                                         \n",
      "                                                                 \n",
      " conv2d_transpose_1 (Conv2DT  (None, 10, 10, 128)      147584    \n",
      " ranspose)                                                       \n",
      "                                                                 \n",
      " batch_normalization_2 (Batc  (None, 10, 10, 128)      512       \n",
      " hNormalization)                                                 \n",
      "                                                                 \n",
      " max_pooling2d_1 (MaxPooling  (None, 5, 5, 128)        0         \n",
      " 2D)                                                             \n",
      "                                                                 \n",
      " dropout_1 (Dropout)         (None, 5, 5, 128)         0         \n",
      "                                                                 \n",
      " conv2d_2 (Conv2D)           (None, 5, 5, 256)         295168    \n",
      "                                                                 \n",
      " batch_normalization_3 (Batc  (None, 5, 5, 256)        1024      \n",
      " hNormalization)                                                 \n",
      "                                                                 \n",
      " max_pooling2d_2 (MaxPooling  (None, 2, 2, 256)        0         \n",
      " 2D)                                                             \n",
      "                                                                 \n",
      " dropout_2 (Dropout)         (None, 2, 2, 256)         0         \n",
      "                                                                 \n",
      " flatten (Flatten)           (None, 1024)              0         \n",
      "                                                                 \n",
      " dense (Dense)               (None, 512)               524800    \n",
      "                                                                 \n",
      " batch_normalization_4 (Batc  (None, 512)              2048      \n",
      " hNormalization)                                                 \n",
      "                                                                 \n",
      " dropout_3 (Dropout)         (None, 512)               0         \n",
      "                                                                 \n",
      " dense_1 (Dense)             (None, 256)               131328    \n",
      "                                                                 \n",
      " batch_normalization_5 (Batc  (None, 256)              1024      \n",
      " hNormalization)                                                 \n",
      "                                                                 \n",
      " dropout_4 (Dropout)         (None, 256)               0         \n",
      "                                                                 \n",
      " dense_2 (Dense)             (None, 10)                2570      \n",
      "                                                                 \n",
      "=================================================================\n",
      "Total params: 2,000,394\n",
      "Trainable params: 1,997,066\n",
      "Non-trainable params: 3,328\n",
      "_________________________________________________________________\n",
      "None\n"
     ]
    }
   ],
   "source": [
    "model.build()\n",
    "print(model.summary())"
   ]
  },
  {
   "cell_type": "code",
   "execution_count": 11,
   "id": "318c1bca",
   "metadata": {
    "execution": {
     "iopub.execute_input": "2023-05-26T13:55:13.512540Z",
     "iopub.status.busy": "2023-05-26T13:55:13.512232Z",
     "iopub.status.idle": "2023-05-26T13:55:13.516294Z",
     "shell.execute_reply": "2023-05-26T13:55:13.515593Z"
    },
    "papermill": {
     "duration": 0.018948,
     "end_time": "2023-05-26T13:55:13.518959",
     "exception": false,
     "start_time": "2023-05-26T13:55:13.500011",
     "status": "completed"
    },
    "tags": []
   },
   "outputs": [
    {
     "name": "stdout",
     "output_type": "stream",
     "text": [
      "27\n"
     ]
    }
   ],
   "source": [
    "print(len(model.layers))"
   ]
  },
  {
   "cell_type": "code",
   "execution_count": 12,
   "id": "f1467305",
   "metadata": {
    "execution": {
     "iopub.execute_input": "2023-05-26T13:55:13.542656Z",
     "iopub.status.busy": "2023-05-26T13:55:13.542392Z",
     "iopub.status.idle": "2023-05-26T13:55:32.986487Z",
     "shell.execute_reply": "2023-05-26T13:55:32.985560Z"
    },
    "papermill": {
     "duration": 19.458367,
     "end_time": "2023-05-26T13:55:32.988606",
     "exception": false,
     "start_time": "2023-05-26T13:55:13.530239",
     "status": "completed"
    },
    "tags": []
   },
   "outputs": [
    {
     "name": "stdout",
     "output_type": "stream",
     "text": [
      "Found 35515 files belonging to 10 classes.\n",
      "Using 28412 files for training.\n",
      "Found 35515 files belonging to 10 classes.\n",
      "Using 7103 files for validation.\n"
     ]
    }
   ],
   "source": [
    "#data\n",
    "seed = 100\n",
    "np.random.seed(seed)\n",
    "tf.random.set_seed(seed)\n",
    "train = keras.utils.image_dataset_from_directory(data_dir,seed=seed, labels='inferred', label_mode='categorical', image_size=(image_width,image_height), validation_split=0.2, subset=\"training\")\n",
    "validation = keras.utils.image_dataset_from_directory(data_dir,seed=seed, labels='inferred', label_mode='categorical', image_size=(image_width,image_height), validation_split=0.2, subset=\"validation\")"
   ]
  },
  {
   "cell_type": "code",
   "execution_count": 13,
   "id": "6a9e89e5",
   "metadata": {
    "execution": {
     "iopub.execute_input": "2023-05-26T13:55:33.015148Z",
     "iopub.status.busy": "2023-05-26T13:55:33.013519Z",
     "iopub.status.idle": "2023-05-26T13:55:33.020241Z",
     "shell.execute_reply": "2023-05-26T13:55:33.019045Z"
    },
    "papermill": {
     "duration": 0.021642,
     "end_time": "2023-05-26T13:55:33.022288",
     "exception": false,
     "start_time": "2023-05-26T13:55:33.000646",
     "status": "completed"
    },
    "tags": []
   },
   "outputs": [
    {
     "name": "stdout",
     "output_type": "stream",
     "text": [
      "['coastguard_scaled', 'containership_scaled', 'corvette_scaled', 'cruiser_scaled', 'cv_scaled', 'destroyer_scaled', 'methanier_scaled', 'smallfish_scaled', 'submarine_scaled', 'tug_scaled'] <_BatchDataset element_spec=(TensorSpec(shape=(None, 16, 24, 3), dtype=tf.float32, name=None), TensorSpec(shape=(None, 10), dtype=tf.float32, name=None))> <_BatchDataset element_spec=(TensorSpec(shape=(None, 16, 24, 3), dtype=tf.float32, name=None), TensorSpec(shape=(None, 10), dtype=tf.float32, name=None))>\n"
     ]
    }
   ],
   "source": [
    "print(train.class_names, train, validation)"
   ]
  },
  {
   "cell_type": "code",
   "execution_count": 14,
   "id": "811e08f6",
   "metadata": {
    "execution": {
     "iopub.execute_input": "2023-05-26T13:55:33.047822Z",
     "iopub.status.busy": "2023-05-26T13:55:33.047075Z",
     "iopub.status.idle": "2023-05-26T14:11:41.870398Z",
     "shell.execute_reply": "2023-05-26T14:11:41.869427Z"
    },
    "papermill": {
     "duration": 968.838417,
     "end_time": "2023-05-26T14:11:41.872744",
     "exception": false,
     "start_time": "2023-05-26T13:55:33.034327",
     "status": "completed"
    },
    "tags": []
   },
   "outputs": [
    {
     "name": "stdout",
     "output_type": "stream",
     "text": [
      "Epoch 1/50\n"
     ]
    },
    {
     "name": "stderr",
     "output_type": "stream",
     "text": [
      "2023-05-26 13:55:34.599926: E tensorflow/core/grappler/optimizers/meta_optimizer.cc:954] layout failed: INVALID_ARGUMENT: Size of values 0 does not match size of permutation 4 @ fanin shape insequential/dropout/dropout/SelectV2-2-TransposeNHWCToNCHW-LayoutOptimizer\n"
     ]
    },
    {
     "name": "stdout",
     "output_type": "stream",
     "text": [
      "888/888 [==============================] - 61s 60ms/step - loss: 2.3577 - accuracy: 0.2585 - val_loss: 1.8854 - val_accuracy: 0.3261\n",
      "Epoch 2/50\n",
      "888/888 [==============================] - 17s 19ms/step - loss: 1.6969 - accuracy: 0.4167 - val_loss: 1.5860 - val_accuracy: 0.4377\n",
      "Epoch 3/50\n",
      "888/888 [==============================] - 17s 19ms/step - loss: 1.4444 - accuracy: 0.5013 - val_loss: 1.3839 - val_accuracy: 0.5160\n",
      "Epoch 4/50\n",
      "888/888 [==============================] - 17s 19ms/step - loss: 1.3274 - accuracy: 0.5449 - val_loss: 1.3716 - val_accuracy: 0.5222\n",
      "Epoch 5/50\n",
      "888/888 [==============================] - 17s 20ms/step - loss: 1.2412 - accuracy: 0.5747 - val_loss: 1.3781 - val_accuracy: 0.5243\n",
      "Epoch 6/50\n",
      "888/888 [==============================] - 17s 19ms/step - loss: 1.1596 - accuracy: 0.6064 - val_loss: 1.2752 - val_accuracy: 0.5630\n",
      "Epoch 7/50\n",
      "888/888 [==============================] - 18s 20ms/step - loss: 1.1022 - accuracy: 0.6266 - val_loss: 1.1068 - val_accuracy: 0.6199\n",
      "Epoch 8/50\n",
      "888/888 [==============================] - 17s 19ms/step - loss: 1.0571 - accuracy: 0.6386 - val_loss: 1.0559 - val_accuracy: 0.6349\n",
      "Epoch 9/50\n",
      "888/888 [==============================] - 17s 19ms/step - loss: 1.0135 - accuracy: 0.6542 - val_loss: 1.2217 - val_accuracy: 0.5898\n",
      "Epoch 10/50\n",
      "888/888 [==============================] - 20s 23ms/step - loss: 0.9798 - accuracy: 0.6681 - val_loss: 0.9374 - val_accuracy: 0.6734\n",
      "Epoch 11/50\n",
      "888/888 [==============================] - 20s 22ms/step - loss: 0.9454 - accuracy: 0.6801 - val_loss: 1.0560 - val_accuracy: 0.6356\n",
      "Epoch 12/50\n",
      "888/888 [==============================] - 17s 19ms/step - loss: 0.9036 - accuracy: 0.6924 - val_loss: 0.9427 - val_accuracy: 0.6730\n",
      "Epoch 13/50\n",
      "888/888 [==============================] - 21s 23ms/step - loss: 0.8814 - accuracy: 0.6991 - val_loss: 0.8792 - val_accuracy: 0.6979\n",
      "Epoch 14/50\n",
      "888/888 [==============================] - 17s 19ms/step - loss: 0.8571 - accuracy: 0.7108 - val_loss: 0.9582 - val_accuracy: 0.6717\n",
      "Epoch 15/50\n",
      "888/888 [==============================] - 21s 23ms/step - loss: 0.8343 - accuracy: 0.7140 - val_loss: 0.8904 - val_accuracy: 0.6927\n",
      "Epoch 16/50\n",
      "888/888 [==============================] - 17s 19ms/step - loss: 0.7951 - accuracy: 0.7288 - val_loss: 0.9212 - val_accuracy: 0.6876\n",
      "Epoch 17/50\n",
      "888/888 [==============================] - 21s 24ms/step - loss: 0.7801 - accuracy: 0.7363 - val_loss: 0.8554 - val_accuracy: 0.7117\n",
      "Epoch 18/50\n",
      "888/888 [==============================] - 18s 20ms/step - loss: 0.7609 - accuracy: 0.7438 - val_loss: 0.8525 - val_accuracy: 0.7060\n",
      "Epoch 19/50\n",
      "888/888 [==============================] - 17s 19ms/step - loss: 0.7458 - accuracy: 0.7486 - val_loss: 0.8395 - val_accuracy: 0.7156\n",
      "Epoch 20/50\n",
      "888/888 [==============================] - 17s 19ms/step - loss: 0.7234 - accuracy: 0.7548 - val_loss: 0.8624 - val_accuracy: 0.7076\n",
      "Epoch 21/50\n",
      "888/888 [==============================] - 17s 19ms/step - loss: 0.6962 - accuracy: 0.7629 - val_loss: 0.8200 - val_accuracy: 0.7243\n",
      "Epoch 22/50\n",
      "888/888 [==============================] - 18s 20ms/step - loss: 0.6840 - accuracy: 0.7685 - val_loss: 0.9180 - val_accuracy: 0.6969\n",
      "Epoch 23/50\n",
      "888/888 [==============================] - 18s 20ms/step - loss: 0.6764 - accuracy: 0.7690 - val_loss: 0.8113 - val_accuracy: 0.7317\n",
      "Epoch 24/50\n",
      "888/888 [==============================] - 19s 21ms/step - loss: 0.6627 - accuracy: 0.7761 - val_loss: 0.8307 - val_accuracy: 0.7179\n",
      "Epoch 25/50\n",
      "888/888 [==============================] - 19s 21ms/step - loss: 0.6362 - accuracy: 0.7845 - val_loss: 0.8717 - val_accuracy: 0.7115\n",
      "Epoch 26/50\n",
      "888/888 [==============================] - 18s 20ms/step - loss: 0.6359 - accuracy: 0.7816 - val_loss: 0.8261 - val_accuracy: 0.7241\n",
      "Epoch 27/50\n",
      "888/888 [==============================] - 17s 20ms/step - loss: 0.6169 - accuracy: 0.7905 - val_loss: 0.7836 - val_accuracy: 0.7397\n",
      "Epoch 28/50\n",
      "888/888 [==============================] - 18s 20ms/step - loss: 0.6001 - accuracy: 0.7977 - val_loss: 0.8295 - val_accuracy: 0.7259\n",
      "Epoch 29/50\n",
      "888/888 [==============================] - 17s 19ms/step - loss: 0.5963 - accuracy: 0.7973 - val_loss: 0.8274 - val_accuracy: 0.7227\n",
      "Epoch 30/50\n",
      "888/888 [==============================] - 17s 19ms/step - loss: 0.5760 - accuracy: 0.8036 - val_loss: 0.8114 - val_accuracy: 0.7334\n",
      "Epoch 31/50\n",
      "888/888 [==============================] - 17s 20ms/step - loss: 0.5632 - accuracy: 0.8082 - val_loss: 0.8622 - val_accuracy: 0.7217\n",
      "Epoch 32/50\n",
      "888/888 [==============================] - 17s 19ms/step - loss: 0.5629 - accuracy: 0.8066 - val_loss: 0.7923 - val_accuracy: 0.7363\n",
      "Epoch 33/50\n",
      "888/888 [==============================] - 18s 20ms/step - loss: 0.5414 - accuracy: 0.8130 - val_loss: 0.8319 - val_accuracy: 0.7272\n",
      "Epoch 34/50\n",
      "888/888 [==============================] - 17s 19ms/step - loss: 0.5415 - accuracy: 0.8158 - val_loss: 0.8191 - val_accuracy: 0.7350\n",
      "Epoch 35/50\n",
      "888/888 [==============================] - 17s 19ms/step - loss: 0.5311 - accuracy: 0.8208 - val_loss: 0.8049 - val_accuracy: 0.7370\n",
      "Epoch 36/50\n",
      "888/888 [==============================] - 18s 20ms/step - loss: 0.5199 - accuracy: 0.8237 - val_loss: 0.8215 - val_accuracy: 0.7372\n",
      "Epoch 37/50\n",
      "888/888 [==============================] - 18s 20ms/step - loss: 0.5015 - accuracy: 0.8294 - val_loss: 0.8140 - val_accuracy: 0.7415\n",
      "Epoch 38/50\n",
      "888/888 [==============================] - 17s 19ms/step - loss: 0.4989 - accuracy: 0.8306 - val_loss: 0.8274 - val_accuracy: 0.7380\n",
      "Epoch 39/50\n",
      "888/888 [==============================] - 18s 20ms/step - loss: 0.4930 - accuracy: 0.8349 - val_loss: 0.8912 - val_accuracy: 0.7153\n",
      "Epoch 40/50\n",
      "888/888 [==============================] - 18s 20ms/step - loss: 0.4787 - accuracy: 0.8369 - val_loss: 0.8439 - val_accuracy: 0.7303\n",
      "Epoch 41/50\n",
      "888/888 [==============================] - 17s 19ms/step - loss: 0.4741 - accuracy: 0.8364 - val_loss: 0.8290 - val_accuracy: 0.7335\n",
      "Epoch 42/50\n",
      "888/888 [==============================] - 18s 20ms/step - loss: 0.4624 - accuracy: 0.8415 - val_loss: 0.8305 - val_accuracy: 0.7369\n",
      "Epoch 43/50\n",
      "888/888 [==============================] - 17s 20ms/step - loss: 0.4536 - accuracy: 0.8440 - val_loss: 0.8270 - val_accuracy: 0.7410\n",
      "Epoch 44/50\n",
      "888/888 [==============================] - 18s 20ms/step - loss: 0.4492 - accuracy: 0.8457 - val_loss: 0.8427 - val_accuracy: 0.7403\n",
      "Epoch 45/50\n",
      "888/888 [==============================] - 17s 19ms/step - loss: 0.4417 - accuracy: 0.8484 - val_loss: 0.8496 - val_accuracy: 0.7398\n",
      "Epoch 46/50\n",
      "888/888 [==============================] - 18s 20ms/step - loss: 0.4281 - accuracy: 0.8537 - val_loss: 0.8837 - val_accuracy: 0.7298\n",
      "Epoch 47/50\n",
      "888/888 [==============================] - 17s 19ms/step - loss: 0.4270 - accuracy: 0.8520 - val_loss: 0.8395 - val_accuracy: 0.7438\n",
      "Epoch 48/50\n",
      "888/888 [==============================] - 18s 20ms/step - loss: 0.4239 - accuracy: 0.8552 - val_loss: 0.8833 - val_accuracy: 0.7281\n",
      "Epoch 49/50\n",
      "888/888 [==============================] - 17s 19ms/step - loss: 0.4091 - accuracy: 0.8605 - val_loss: 0.8671 - val_accuracy: 0.7342\n",
      "Epoch 50/50\n",
      "888/888 [==============================] - 17s 19ms/step - loss: 0.4106 - accuracy: 0.8612 - val_loss: 0.8232 - val_accuracy: 0.7438\n"
     ]
    }
   ],
   "source": [
    "with tf.device('/gpu:0'):\n",
    "    model.fit(train, validation_data=(validation), batch_size=256, epochs=50)"
   ]
  },
  {
   "cell_type": "code",
   "execution_count": 15,
   "id": "07ccc440",
   "metadata": {
    "execution": {
     "iopub.execute_input": "2023-05-26T14:11:43.908305Z",
     "iopub.status.busy": "2023-05-26T14:11:43.907952Z",
     "iopub.status.idle": "2023-05-26T14:11:44.042094Z",
     "shell.execute_reply": "2023-05-26T14:11:44.041174Z"
    },
    "papermill": {
     "duration": 1.080301,
     "end_time": "2023-05-26T14:11:44.044623",
     "exception": false,
     "start_time": "2023-05-26T14:11:42.964322",
     "status": "completed"
    },
    "tags": []
   },
   "outputs": [],
   "source": [
    "\n",
    "# Sauvegardez le modèle\n",
    "model.save('/kaggle/working/mon_modele3.h5')"
   ]
  },
  {
   "cell_type": "code",
   "execution_count": 16,
   "id": "fba18d14",
   "metadata": {
    "execution": {
     "iopub.execute_input": "2023-05-26T14:11:45.980523Z",
     "iopub.status.busy": "2023-05-26T14:11:45.980138Z",
     "iopub.status.idle": "2023-05-26T14:11:45.984466Z",
     "shell.execute_reply": "2023-05-26T14:11:45.983546Z"
    },
    "papermill": {
     "duration": 0.95067,
     "end_time": "2023-05-26T14:11:45.986525",
     "exception": false,
     "start_time": "2023-05-26T14:11:45.035855",
     "status": "completed"
    },
    "tags": []
   },
   "outputs": [],
   "source": [
    "#model = models.load_model('/kaggle/working/mon_modele.h5')"
   ]
  },
  {
   "cell_type": "code",
   "execution_count": 17,
   "id": "c4f0855e",
   "metadata": {
    "execution": {
     "iopub.execute_input": "2023-05-26T14:11:47.983416Z",
     "iopub.status.busy": "2023-05-26T14:11:47.983037Z",
     "iopub.status.idle": "2023-05-26T14:11:49.019673Z",
     "shell.execute_reply": "2023-05-26T14:11:49.018797Z"
    },
    "papermill": {
     "duration": 1.997008,
     "end_time": "2023-05-26T14:11:49.021942",
     "exception": false,
     "start_time": "2023-05-26T14:11:47.024934",
     "status": "completed"
    },
    "tags": []
   },
   "outputs": [
    {
     "name": "stdout",
     "output_type": "stream",
     "text": [
      "116/116 [==============================] - 1s 5ms/step\n"
     ]
    }
   ],
   "source": [
    "test_data = np.load(test_file)\n",
    "predictions = model.predict(test_data)"
   ]
  },
  {
   "cell_type": "code",
   "execution_count": 18,
   "id": "8cfa3361",
   "metadata": {
    "execution": {
     "iopub.execute_input": "2023-05-26T14:11:50.988450Z",
     "iopub.status.busy": "2023-05-26T14:11:50.987866Z",
     "iopub.status.idle": "2023-05-26T14:11:50.993600Z",
     "shell.execute_reply": "2023-05-26T14:11:50.992594Z"
    },
    "papermill": {
     "duration": 0.952939,
     "end_time": "2023-05-26T14:11:50.997186",
     "exception": false,
     "start_time": "2023-05-26T14:11:50.044247",
     "status": "completed"
    },
    "tags": []
   },
   "outputs": [
    {
     "name": "stdout",
     "output_type": "stream",
     "text": [
      "3698\n"
     ]
    }
   ],
   "source": [
    "predicted_labels = np.argmax(predictions, axis=1)\n",
    "print(len(predicted_labels))"
   ]
  },
  {
   "cell_type": "code",
   "execution_count": 19,
   "id": "f46ab60c",
   "metadata": {
    "execution": {
     "iopub.execute_input": "2023-05-26T14:11:52.947829Z",
     "iopub.status.busy": "2023-05-26T14:11:52.946861Z",
     "iopub.status.idle": "2023-05-26T14:11:52.952832Z",
     "shell.execute_reply": "2023-05-26T14:11:52.951808Z"
    },
    "papermill": {
     "duration": 0.95424,
     "end_time": "2023-05-26T14:11:52.955828",
     "exception": false,
     "start_time": "2023-05-26T14:11:52.001588",
     "status": "completed"
    },
    "tags": []
   },
   "outputs": [
    {
     "name": "stdout",
     "output_type": "stream",
     "text": [
      "Nombre de couches :  27\n"
     ]
    }
   ],
   "source": [
    "print(\"Nombre de couches : \", len(model.layers))"
   ]
  },
  {
   "cell_type": "code",
   "execution_count": 20,
   "id": "ddd6fa8a",
   "metadata": {
    "execution": {
     "iopub.execute_input": "2023-05-26T14:11:55.430833Z",
     "iopub.status.busy": "2023-05-26T14:11:55.430475Z",
     "iopub.status.idle": "2023-05-26T14:11:55.451850Z",
     "shell.execute_reply": "2023-05-26T14:11:55.450857Z"
    },
    "papermill": {
     "duration": 1.214743,
     "end_time": "2023-05-26T14:11:55.454295",
     "exception": false,
     "start_time": "2023-05-26T14:11:54.239552",
     "status": "completed"
    },
    "tags": []
   },
   "outputs": [
    {
     "data": {
      "text/html": [
       "<a href='submission.csv' target='_blank'>submission.csv</a><br>"
      ],
      "text/plain": [
       "/kaggle/working/submission.csv"
      ]
     },
     "execution_count": 20,
     "metadata": {},
     "output_type": "execute_result"
    }
   ],
   "source": [
    "df = pd.DataFrame({\"Category\":predicted_labels})\n",
    "df.to_csv(\"submission.csv\", index_label=\"Id\")\n",
    "\n",
    "import os\n",
    "os.chdir(r'/kaggle/working')\n",
    "from IPython.display import FileLink\n",
    "FileLink(r'submission.csv')"
   ]
  },
  {
   "cell_type": "code",
   "execution_count": 21,
   "id": "e18c3c16",
   "metadata": {
    "execution": {
     "iopub.execute_input": "2023-05-26T14:11:57.392253Z",
     "iopub.status.busy": "2023-05-26T14:11:57.391214Z",
     "iopub.status.idle": "2023-05-26T14:11:58.367713Z",
     "shell.execute_reply": "2023-05-26T14:11:58.366585Z"
    },
    "papermill": {
     "duration": 1.918516,
     "end_time": "2023-05-26T14:11:58.369949",
     "exception": false,
     "start_time": "2023-05-26T14:11:56.451433",
     "status": "completed"
    },
    "tags": []
   },
   "outputs": [
    {
     "name": "stdout",
     "output_type": "stream",
     "text": [
      "head: cannot open 'reco_nav.csv' for reading: No such file or directory\r\n"
     ]
    }
   ],
   "source": [
    "!head reco_nav.csv"
   ]
  }
 ],
 "metadata": {
  "kernelspec": {
   "display_name": "Python 3",
   "language": "python",
   "name": "python3"
  },
  "language_info": {
   "codemirror_mode": {
    "name": "ipython",
    "version": 3
   },
   "file_extension": ".py",
   "mimetype": "text/x-python",
   "name": "python",
   "nbconvert_exporter": "python",
   "pygments_lexer": "ipython3",
   "version": "3.10.10"
  },
  "papermill": {
   "default_parameters": {},
   "duration": 1030.619924,
   "end_time": "2023-05-26T14:12:02.246632",
   "environment_variables": {},
   "exception": null,
   "input_path": "__notebook__.ipynb",
   "output_path": "__notebook__.ipynb",
   "parameters": {},
   "start_time": "2023-05-26T13:54:51.626708",
   "version": "2.4.0"
  }
 },
 "nbformat": 4,
 "nbformat_minor": 5
}
